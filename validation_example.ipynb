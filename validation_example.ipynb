{
 "cells": [
  {
   "cell_type": "code",
   "execution_count": 8,
   "metadata": {},
   "outputs": [
    {
     "name": "stdout",
     "output_type": "stream",
     "text": [
      "Error(message='work_title is missing.', level='TR')\n"
     ]
    },
    {
     "data": {
      "text/plain": [
       "1      556.0\n",
       "2        0.0\n",
       "3        0.0\n",
       "5      556.0\n",
       "6        0.0\n",
       "7        0.0\n",
       "9      278.0\n",
       "10     278.0\n",
       "11     833.0\n",
       "12     833.0\n",
       "13    1666.0\n",
       "Name: pr_ownership_share, dtype: object"
      ]
     },
     "metadata": {},
     "output_type": "display_data"
    },
    {
     "name": "stdout",
     "output_type": "stream",
     "text": [
      "pr_shares_sum 0.5\n",
      "None\n"
     ]
    }
   ],
   "source": [
    "from inspect import getmembers, isfunction\n",
    "import json\n",
    "import os\n",
    "from IPython.display import display, HTML\n",
    "from app import record_parser\n",
    "from cwr_parser.pack.generator import json_generator\n",
    "from cwr_parser.pack.models import Nwr\n",
    "import transaction_validators.nwr_transaction_validators as nwr_transaction_validators\n",
    "import pandas as pd\n",
    "\n",
    "from field_validators import nwr_field_validators\n",
    "\n",
    "from transaction_validators import nwr_transaction_validators  \n",
    "\n",
    "json_generator(\"cw210020ccp_008_short.v21\")\n",
    "\n",
    "with open(\"json_data.json\", \"r\") as json_file:\n",
    "    data = json.load(json_file)\n",
    "\n",
    "    df = pd.DataFrame(data)\n",
    "\n",
    "    # record level validations\n",
    "    nwr = Nwr(data[0]['record_prefix'])\n",
    "    for k, v in data[0].items():\n",
    "        setattr(nwr, k, v)\n",
    "    # display(nwr)\n",
    "\n",
    "    errors = nwr_field_validators.work_title_is_required(nwr)\n",
    "\n",
    "    print(errors)\n",
    "\n",
    "\n",
    "    # display(df)\n",
    "    target_rows = df[(df[\"record_type\"] == \"SPU\")| (df[\"record_type\"] == \"OPU\")]\n",
    "    # display(target_rows)\n",
    "\n",
    "\n",
    "    pr_shares = target_rows[\"pr_ownership_share\"]\n",
    "    display(pr_shares)\n",
    "\n",
    "\n",
    "    errors = nwr_transaction_validators.pr_shares_must_be_valid(df)\n",
    "\n",
    "    print(errors)\n",
    "   \n",
    "\n",
    "   \n",
    "  \n",
    "\n",
    "          \n",
    "\n",
    "\n"
   ]
  }
 ],
 "metadata": {
  "interpreter": {
   "hash": "8e38419b18217d98738a89270e1fdbef0b705ae4abafe30c78e56479c5624e79"
  },
  "kernelspec": {
   "display_name": "Python 3.9.12 ('cwr-parsing-demo-wvAFawzX')",
   "language": "python",
   "name": "python3"
  },
  "language_info": {
   "codemirror_mode": {
    "name": "ipython",
    "version": 3
   },
   "file_extension": ".py",
   "mimetype": "text/x-python",
   "name": "python",
   "nbconvert_exporter": "python",
   "pygments_lexer": "ipython3",
   "version": "3.9.12"
  },
  "orig_nbformat": 4
 },
 "nbformat": 4,
 "nbformat_minor": 2
}
